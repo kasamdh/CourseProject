{
  "nbformat": 4,
  "nbformat_minor": 0,
  "metadata": {
    "colab": {
      "provenance": [],
      "collapsed_sections": [
        "g3hX5433WWuG",
        "re87Il5vWf60",
        "KwmbQgVjWkDu",
        "PYKJqo7cWkvQ",
        "rhjgz_2GXsNW"
      ]
    },
    "kernelspec": {
      "name": "python3",
      "display_name": "Python 3"
    },
    "language_info": {
      "name": "python"
    }
  },
  "cells": [
    {
      "cell_type": "markdown",
      "source": [
        "#Load data to Colab"
      ],
      "metadata": {
        "id": "5fj_m3y6hLUt"
      }
    },
    {
      "cell_type": "markdown",
      "source": [
        "### Connect to Google Drive to the path where dataset is stored"
      ],
      "metadata": {
        "id": "_8h-Vc7vhadp"
      }
    },
    {
      "cell_type": "code",
      "source": [
        "from google.colab import drive\n",
        "import os\n",
        "drive.mount(\"/content/drive/\", force_remount=True)\n",
        "\n",
        "mypath = \"drive/MyDrive/\"\n",
        "os.listdir(mypath)"
      ],
      "metadata": {
        "id": "DUccVEzddbSc",
        "colab": {
          "base_uri": "https://localhost:8080/"
        },
        "outputId": "02023e0c-7e3d-470c-bd45-93595a9ada3c"
      },
      "execution_count": null,
      "outputs": [
        {
          "output_type": "stream",
          "name": "stdout",
          "text": [
            "Mounted at /content/drive/\n"
          ]
        },
        {
          "output_type": "execute_result",
          "data": {
            "text/plain": [
              "['Colab Notebooks',\n",
              " '.ipynb_checkpoints',\n",
              " 'CS598DLHProject',\n",
              " 'original_paper_data',\n",
              " 'copy',\n",
              " 'CS410Project']"
            ]
          },
          "metadata": {},
          "execution_count": 80
        }
      ]
    },
    {
      "cell_type": "markdown",
      "source": [
        "## Initialize relevant data URIs"
      ],
      "metadata": {
        "id": "7o4I8FGYhjy6"
      }
    },
    {
      "cell_type": "code",
      "source": [
        "DATA_DIR = mypath + \"CS410Project/Datasets/\"\n",
        "\n",
        "STOCK_DATA_CSV_ZIP = \"stock_data.csv\""
      ],
      "metadata": {
        "id": "E01eH5L5eI8F"
      },
      "execution_count": null,
      "outputs": []
    },
    {
      "cell_type": "markdown",
      "source": [
        "##Import required dependencies required for data exploration and data cleaning"
      ],
      "metadata": {
        "id": "mT-ML2jshpzv"
      }
    },
    {
      "cell_type": "code",
      "source": [
        "import numpy as np\n",
        "import pandas as pd\n",
        "import matplotlib.pyplot as plt\n",
        "import seaborn as sns\n",
        "%matplotlib inline"
      ],
      "metadata": {
        "id": "RjhChMMredwW"
      },
      "execution_count": null,
      "outputs": []
    },
    {
      "cell_type": "markdown",
      "source": [
        "\n",
        "##Read CSV data and print first 5 records"
      ],
      "metadata": {
        "id": "1p71GssAhvxy"
      }
    },
    {
      "cell_type": "code",
      "source": [
        "data=pd.read_csv(DATA_DIR + STOCK_DATA_CSV_ZIP)\n",
        "data.head()"
      ],
      "metadata": {
        "colab": {
          "base_uri": "https://localhost:8080/",
          "height": 206
        },
        "id": "v51UNHjjev8t",
        "outputId": "ec897f13-6a2f-4571-ce16-b3b43be56c7e"
      },
      "execution_count": null,
      "outputs": [
        {
          "output_type": "execute_result",
          "data": {
            "text/plain": [
              "                                                Text  Sentiment\n",
              "0  Kickers on my watchlist XIDE TIT SOQ PNK CPW B...          1\n",
              "1  user: AAP MOVIE. 55% return for the FEA/GEED i...          1\n",
              "2  user I'd be afraid to short AMZN - they are lo...          1\n",
              "3                                  MNTA Over 12.00            1\n",
              "4                                   OI  Over 21.37            1"
            ],
            "text/html": [
              "\n",
              "  <div id=\"df-73e548a4-b5db-4e3b-8689-1b09717d181c\">\n",
              "    <div class=\"colab-df-container\">\n",
              "      <div>\n",
              "<style scoped>\n",
              "    .dataframe tbody tr th:only-of-type {\n",
              "        vertical-align: middle;\n",
              "    }\n",
              "\n",
              "    .dataframe tbody tr th {\n",
              "        vertical-align: top;\n",
              "    }\n",
              "\n",
              "    .dataframe thead th {\n",
              "        text-align: right;\n",
              "    }\n",
              "</style>\n",
              "<table border=\"1\" class=\"dataframe\">\n",
              "  <thead>\n",
              "    <tr style=\"text-align: right;\">\n",
              "      <th></th>\n",
              "      <th>Text</th>\n",
              "      <th>Sentiment</th>\n",
              "    </tr>\n",
              "  </thead>\n",
              "  <tbody>\n",
              "    <tr>\n",
              "      <th>0</th>\n",
              "      <td>Kickers on my watchlist XIDE TIT SOQ PNK CPW B...</td>\n",
              "      <td>1</td>\n",
              "    </tr>\n",
              "    <tr>\n",
              "      <th>1</th>\n",
              "      <td>user: AAP MOVIE. 55% return for the FEA/GEED i...</td>\n",
              "      <td>1</td>\n",
              "    </tr>\n",
              "    <tr>\n",
              "      <th>2</th>\n",
              "      <td>user I'd be afraid to short AMZN - they are lo...</td>\n",
              "      <td>1</td>\n",
              "    </tr>\n",
              "    <tr>\n",
              "      <th>3</th>\n",
              "      <td>MNTA Over 12.00</td>\n",
              "      <td>1</td>\n",
              "    </tr>\n",
              "    <tr>\n",
              "      <th>4</th>\n",
              "      <td>OI  Over 21.37</td>\n",
              "      <td>1</td>\n",
              "    </tr>\n",
              "  </tbody>\n",
              "</table>\n",
              "</div>\n",
              "      <button class=\"colab-df-convert\" onclick=\"convertToInteractive('df-73e548a4-b5db-4e3b-8689-1b09717d181c')\"\n",
              "              title=\"Convert this dataframe to an interactive table.\"\n",
              "              style=\"display:none;\">\n",
              "        \n",
              "  <svg xmlns=\"http://www.w3.org/2000/svg\" height=\"24px\"viewBox=\"0 0 24 24\"\n",
              "       width=\"24px\">\n",
              "    <path d=\"M0 0h24v24H0V0z\" fill=\"none\"/>\n",
              "    <path d=\"M18.56 5.44l.94 2.06.94-2.06 2.06-.94-2.06-.94-.94-2.06-.94 2.06-2.06.94zm-11 1L8.5 8.5l.94-2.06 2.06-.94-2.06-.94L8.5 2.5l-.94 2.06-2.06.94zm10 10l.94 2.06.94-2.06 2.06-.94-2.06-.94-.94-2.06-.94 2.06-2.06.94z\"/><path d=\"M17.41 7.96l-1.37-1.37c-.4-.4-.92-.59-1.43-.59-.52 0-1.04.2-1.43.59L10.3 9.45l-7.72 7.72c-.78.78-.78 2.05 0 2.83L4 21.41c.39.39.9.59 1.41.59.51 0 1.02-.2 1.41-.59l7.78-7.78 2.81-2.81c.8-.78.8-2.07 0-2.86zM5.41 20L4 18.59l7.72-7.72 1.47 1.35L5.41 20z\"/>\n",
              "  </svg>\n",
              "      </button>\n",
              "      \n",
              "  <style>\n",
              "    .colab-df-container {\n",
              "      display:flex;\n",
              "      flex-wrap:wrap;\n",
              "      gap: 12px;\n",
              "    }\n",
              "\n",
              "    .colab-df-convert {\n",
              "      background-color: #E8F0FE;\n",
              "      border: none;\n",
              "      border-radius: 50%;\n",
              "      cursor: pointer;\n",
              "      display: none;\n",
              "      fill: #1967D2;\n",
              "      height: 32px;\n",
              "      padding: 0 0 0 0;\n",
              "      width: 32px;\n",
              "    }\n",
              "\n",
              "    .colab-df-convert:hover {\n",
              "      background-color: #E2EBFA;\n",
              "      box-shadow: 0px 1px 2px rgba(60, 64, 67, 0.3), 0px 1px 3px 1px rgba(60, 64, 67, 0.15);\n",
              "      fill: #174EA6;\n",
              "    }\n",
              "\n",
              "    [theme=dark] .colab-df-convert {\n",
              "      background-color: #3B4455;\n",
              "      fill: #D2E3FC;\n",
              "    }\n",
              "\n",
              "    [theme=dark] .colab-df-convert:hover {\n",
              "      background-color: #434B5C;\n",
              "      box-shadow: 0px 1px 3px 1px rgba(0, 0, 0, 0.15);\n",
              "      filter: drop-shadow(0px 1px 2px rgba(0, 0, 0, 0.3));\n",
              "      fill: #FFFFFF;\n",
              "    }\n",
              "  </style>\n",
              "\n",
              "      <script>\n",
              "        const buttonEl =\n",
              "          document.querySelector('#df-73e548a4-b5db-4e3b-8689-1b09717d181c button.colab-df-convert');\n",
              "        buttonEl.style.display =\n",
              "          google.colab.kernel.accessAllowed ? 'block' : 'none';\n",
              "\n",
              "        async function convertToInteractive(key) {\n",
              "          const element = document.querySelector('#df-73e548a4-b5db-4e3b-8689-1b09717d181c');\n",
              "          const dataTable =\n",
              "            await google.colab.kernel.invokeFunction('convertToInteractive',\n",
              "                                                     [key], {});\n",
              "          if (!dataTable) return;\n",
              "\n",
              "          const docLinkHtml = 'Like what you see? Visit the ' +\n",
              "            '<a target=\"_blank\" href=https://colab.research.google.com/notebooks/data_table.ipynb>data table notebook</a>'\n",
              "            + ' to learn more about interactive tables.';\n",
              "          element.innerHTML = '';\n",
              "          dataTable['output_type'] = 'display_data';\n",
              "          await google.colab.output.renderOutput(dataTable, element);\n",
              "          const docLink = document.createElement('div');\n",
              "          docLink.innerHTML = docLinkHtml;\n",
              "          element.appendChild(docLink);\n",
              "        }\n",
              "      </script>\n",
              "    </div>\n",
              "  </div>\n",
              "  "
            ]
          },
          "metadata": {},
          "execution_count": 83
        }
      ]
    },
    {
      "cell_type": "markdown",
      "source": [
        "### Print the metadata about the data."
      ],
      "metadata": {
        "id": "Vdm2LCbdgO7V"
      }
    },
    {
      "cell_type": "code",
      "source": [
        "data.info()"
      ],
      "metadata": {
        "colab": {
          "base_uri": "https://localhost:8080/"
        },
        "id": "9Co65861e8xL",
        "outputId": "357fe0c0-ee80-49d4-8fa7-630cae2226ce"
      },
      "execution_count": null,
      "outputs": [
        {
          "output_type": "stream",
          "name": "stdout",
          "text": [
            "<class 'pandas.core.frame.DataFrame'>\n",
            "RangeIndex: 5791 entries, 0 to 5790\n",
            "Data columns (total 2 columns):\n",
            " #   Column     Non-Null Count  Dtype \n",
            "---  ------     --------------  ----- \n",
            " 0   Text       5791 non-null   object\n",
            " 1   Sentiment  5791 non-null   int64 \n",
            "dtypes: int64(1), object(1)\n",
            "memory usage: 90.6+ KB\n"
          ]
        }
      ]
    },
    {
      "cell_type": "code",
      "source": [
        "data.describe()"
      ],
      "metadata": {
        "colab": {
          "base_uri": "https://localhost:8080/",
          "height": 300
        },
        "id": "RJ8XBzZPe-3x",
        "outputId": "45dc60ec-bb69-4a39-92c8-e59139beaf16"
      },
      "execution_count": null,
      "outputs": [
        {
          "output_type": "execute_result",
          "data": {
            "text/plain": [
              "         Sentiment\n",
              "count  5791.000000\n",
              "mean      0.272664\n",
              "std       0.962192\n",
              "min      -1.000000\n",
              "25%      -1.000000\n",
              "50%       1.000000\n",
              "75%       1.000000\n",
              "max       1.000000"
            ],
            "text/html": [
              "\n",
              "  <div id=\"df-2134243a-5e74-4e79-acae-1641c2955d60\">\n",
              "    <div class=\"colab-df-container\">\n",
              "      <div>\n",
              "<style scoped>\n",
              "    .dataframe tbody tr th:only-of-type {\n",
              "        vertical-align: middle;\n",
              "    }\n",
              "\n",
              "    .dataframe tbody tr th {\n",
              "        vertical-align: top;\n",
              "    }\n",
              "\n",
              "    .dataframe thead th {\n",
              "        text-align: right;\n",
              "    }\n",
              "</style>\n",
              "<table border=\"1\" class=\"dataframe\">\n",
              "  <thead>\n",
              "    <tr style=\"text-align: right;\">\n",
              "      <th></th>\n",
              "      <th>Sentiment</th>\n",
              "    </tr>\n",
              "  </thead>\n",
              "  <tbody>\n",
              "    <tr>\n",
              "      <th>count</th>\n",
              "      <td>5791.000000</td>\n",
              "    </tr>\n",
              "    <tr>\n",
              "      <th>mean</th>\n",
              "      <td>0.272664</td>\n",
              "    </tr>\n",
              "    <tr>\n",
              "      <th>std</th>\n",
              "      <td>0.962192</td>\n",
              "    </tr>\n",
              "    <tr>\n",
              "      <th>min</th>\n",
              "      <td>-1.000000</td>\n",
              "    </tr>\n",
              "    <tr>\n",
              "      <th>25%</th>\n",
              "      <td>-1.000000</td>\n",
              "    </tr>\n",
              "    <tr>\n",
              "      <th>50%</th>\n",
              "      <td>1.000000</td>\n",
              "    </tr>\n",
              "    <tr>\n",
              "      <th>75%</th>\n",
              "      <td>1.000000</td>\n",
              "    </tr>\n",
              "    <tr>\n",
              "      <th>max</th>\n",
              "      <td>1.000000</td>\n",
              "    </tr>\n",
              "  </tbody>\n",
              "</table>\n",
              "</div>\n",
              "      <button class=\"colab-df-convert\" onclick=\"convertToInteractive('df-2134243a-5e74-4e79-acae-1641c2955d60')\"\n",
              "              title=\"Convert this dataframe to an interactive table.\"\n",
              "              style=\"display:none;\">\n",
              "        \n",
              "  <svg xmlns=\"http://www.w3.org/2000/svg\" height=\"24px\"viewBox=\"0 0 24 24\"\n",
              "       width=\"24px\">\n",
              "    <path d=\"M0 0h24v24H0V0z\" fill=\"none\"/>\n",
              "    <path d=\"M18.56 5.44l.94 2.06.94-2.06 2.06-.94-2.06-.94-.94-2.06-.94 2.06-2.06.94zm-11 1L8.5 8.5l.94-2.06 2.06-.94-2.06-.94L8.5 2.5l-.94 2.06-2.06.94zm10 10l.94 2.06.94-2.06 2.06-.94-2.06-.94-.94-2.06-.94 2.06-2.06.94z\"/><path d=\"M17.41 7.96l-1.37-1.37c-.4-.4-.92-.59-1.43-.59-.52 0-1.04.2-1.43.59L10.3 9.45l-7.72 7.72c-.78.78-.78 2.05 0 2.83L4 21.41c.39.39.9.59 1.41.59.51 0 1.02-.2 1.41-.59l7.78-7.78 2.81-2.81c.8-.78.8-2.07 0-2.86zM5.41 20L4 18.59l7.72-7.72 1.47 1.35L5.41 20z\"/>\n",
              "  </svg>\n",
              "      </button>\n",
              "      \n",
              "  <style>\n",
              "    .colab-df-container {\n",
              "      display:flex;\n",
              "      flex-wrap:wrap;\n",
              "      gap: 12px;\n",
              "    }\n",
              "\n",
              "    .colab-df-convert {\n",
              "      background-color: #E8F0FE;\n",
              "      border: none;\n",
              "      border-radius: 50%;\n",
              "      cursor: pointer;\n",
              "      display: none;\n",
              "      fill: #1967D2;\n",
              "      height: 32px;\n",
              "      padding: 0 0 0 0;\n",
              "      width: 32px;\n",
              "    }\n",
              "\n",
              "    .colab-df-convert:hover {\n",
              "      background-color: #E2EBFA;\n",
              "      box-shadow: 0px 1px 2px rgba(60, 64, 67, 0.3), 0px 1px 3px 1px rgba(60, 64, 67, 0.15);\n",
              "      fill: #174EA6;\n",
              "    }\n",
              "\n",
              "    [theme=dark] .colab-df-convert {\n",
              "      background-color: #3B4455;\n",
              "      fill: #D2E3FC;\n",
              "    }\n",
              "\n",
              "    [theme=dark] .colab-df-convert:hover {\n",
              "      background-color: #434B5C;\n",
              "      box-shadow: 0px 1px 3px 1px rgba(0, 0, 0, 0.15);\n",
              "      filter: drop-shadow(0px 1px 2px rgba(0, 0, 0, 0.3));\n",
              "      fill: #FFFFFF;\n",
              "    }\n",
              "  </style>\n",
              "\n",
              "      <script>\n",
              "        const buttonEl =\n",
              "          document.querySelector('#df-2134243a-5e74-4e79-acae-1641c2955d60 button.colab-df-convert');\n",
              "        buttonEl.style.display =\n",
              "          google.colab.kernel.accessAllowed ? 'block' : 'none';\n",
              "\n",
              "        async function convertToInteractive(key) {\n",
              "          const element = document.querySelector('#df-2134243a-5e74-4e79-acae-1641c2955d60');\n",
              "          const dataTable =\n",
              "            await google.colab.kernel.invokeFunction('convertToInteractive',\n",
              "                                                     [key], {});\n",
              "          if (!dataTable) return;\n",
              "\n",
              "          const docLinkHtml = 'Like what you see? Visit the ' +\n",
              "            '<a target=\"_blank\" href=https://colab.research.google.com/notebooks/data_table.ipynb>data table notebook</a>'\n",
              "            + ' to learn more about interactive tables.';\n",
              "          element.innerHTML = '';\n",
              "          dataTable['output_type'] = 'display_data';\n",
              "          await google.colab.output.renderOutput(dataTable, element);\n",
              "          const docLink = document.createElement('div');\n",
              "          docLink.innerHTML = docLinkHtml;\n",
              "          element.appendChild(docLink);\n",
              "        }\n",
              "      </script>\n",
              "    </div>\n",
              "  </div>\n",
              "  "
            ]
          },
          "metadata": {},
          "execution_count": 85
        }
      ]
    },
    {
      "cell_type": "markdown",
      "source": [
        "##Checking for null data"
      ],
      "metadata": {
        "id": "ExCVOk0th8mQ"
      }
    },
    {
      "cell_type": "code",
      "source": [
        "sns.heatmap(data.isnull(),cmap='Blues')"
      ],
      "metadata": {
        "colab": {
          "base_uri": "https://localhost:8080/",
          "height": 287
        },
        "id": "FshWnVECfBO9",
        "outputId": "83b587d9-d1eb-429d-d5e8-811e9111b794"
      },
      "execution_count": null,
      "outputs": [
        {
          "output_type": "execute_result",
          "data": {
            "text/plain": [
              "<matplotlib.axes._subplots.AxesSubplot at 0x7f95a20309d0>"
            ]
          },
          "metadata": {},
          "execution_count": 86
        },
        {
          "output_type": "display_data",
          "data": {
            "text/plain": [
              "<Figure size 432x288 with 2 Axes>"
            ],
            "image/png": "[encoded data removed]"
          },
          "metadata": {
            "needs_background": "light"
          }
        }
      ]
    },
    {
      "cell_type": "markdown",
      "source": [
        "### Print data distribution between both the categories. Positive and Negative"
      ],
      "metadata": {
        "id": "uEz82UXhgYc3"
      }
    },
    {
      "cell_type": "code",
      "source": [
        "data['Sentiment'].value_counts()"
      ],
      "metadata": {
        "colab": {
          "base_uri": "https://localhost:8080/"
        },
        "id": "-flLsgVSfMtV",
        "outputId": "93117924-7dc9-4a5d-e4d1-4b2cf01db6d6"
      },
      "execution_count": null,
      "outputs": [
        {
          "output_type": "execute_result",
          "data": {
            "text/plain": [
              " 1    3685\n",
              "-1    2106\n",
              "Name: Sentiment, dtype: int64"
            ]
          },
          "metadata": {},
          "execution_count": 87
        }
      ]
    },
    {
      "cell_type": "code",
      "source": [
        "sns.countplot(x=data['Sentiment'])"
      ],
      "metadata": {
        "colab": {
          "base_uri": "https://localhost:8080/",
          "height": 296
        },
        "id": "S1fjM54-fPGp",
        "outputId": "5c7b6305-12af-4c6f-caa8-fa01b63bc810"
      },
      "execution_count": null,
      "outputs": [
        {
          "output_type": "execute_result",
          "data": {
            "text/plain": [
              "<matplotlib.axes._subplots.AxesSubplot at 0x7f95a1f83a50>"
            ]
          },
          "metadata": {},
          "execution_count": 88
        },
        {
          "output_type": "display_data",
          "data": {
            "text/plain": [
              "<Figure size 432x288 with 1 Axes>"
            ],
            "image/png": "[encoded data removed]"
          },
          "metadata": {
            "needs_background": "light"
          }
        }
      ]
    },
    {
      "cell_type": "markdown",
      "source": [
        "### Print and describe data distribution based on each category"
      ],
      "metadata": {
        "id": "0W3jP3uf8Et0"
      }
    },
    {
      "cell_type": "code",
      "source": [
        "data.groupby('Sentiment').describe()"
      ],
      "metadata": {
        "colab": {
          "base_uri": "https://localhost:8080/",
          "height": 175
        },
        "id": "LoxtxEZqfRY_",
        "outputId": "c5821c54-62a0-4229-a9b5-cc922f5c2b4e"
      },
      "execution_count": null,
      "outputs": [
        {
          "output_type": "execute_result",
          "data": {
            "text/plain": [
              "           Text                                                               \n",
              "          count unique                                                top freq\n",
              "Sentiment                                                                     \n",
              "-1         2106   2106  AAP - user if so then the current downtrend wi...    1\n",
              " 1         3685   3685  Kickers on my watchlist XIDE TIT SOQ PNK CPW B...    1"
            ],
            "text/html": [
              "\n",
              "  <div id=\"df-0e9c388a-3e4f-496c-b60e-0d477b9ebd38\">\n",
              "    <div class=\"colab-df-container\">\n",
              "      <div>\n",
              "<style scoped>\n",
              "    .dataframe tbody tr th:only-of-type {\n",
              "        vertical-align: middle;\n",
              "    }\n",
              "\n",
              "    .dataframe tbody tr th {\n",
              "        vertical-align: top;\n",
              "    }\n",
              "\n",
              "    .dataframe thead tr th {\n",
              "        text-align: left;\n",
              "    }\n",
              "\n",
              "    .dataframe thead tr:last-of-type th {\n",
              "        text-align: right;\n",
              "    }\n",
              "</style>\n",
              "<table border=\"1\" class=\"dataframe\">\n",
              "  <thead>\n",
              "    <tr>\n",
              "      <th></th>\n",
              "      <th colspan=\"4\" halign=\"left\">Text</th>\n",
              "    </tr>\n",
              "    <tr>\n",
              "      <th></th>\n",
              "      <th>count</th>\n",
              "      <th>unique</th>\n",
              "      <th>top</th>\n",
              "      <th>freq</th>\n",
              "    </tr>\n",
              "    <tr>\n",
              "      <th>Sentiment</th>\n",
              "      <th></th>\n",
              "      <th></th>\n",
              "      <th></th>\n",
              "      <th></th>\n",
              "    </tr>\n",
              "  </thead>\n",
              "  <tbody>\n",
              "    <tr>\n",
              "      <th>-1</th>\n",
              "      <td>2106</td>\n",
              "      <td>2106</td>\n",
              "      <td>AAP - user if so then the current downtrend wi...</td>\n",
              "      <td>1</td>\n",
              "    </tr>\n",
              "    <tr>\n",
              "      <th>1</th>\n",
              "      <td>3685</td>\n",
              "      <td>3685</td>\n",
              "      <td>Kickers on my watchlist XIDE TIT SOQ PNK CPW B...</td>\n",
              "      <td>1</td>\n",
              "    </tr>\n",
              "  </tbody>\n",
              "</table>\n",
              "</div>\n",
              "      <button class=\"colab-df-convert\" onclick=\"convertToInteractive('df-0e9c388a-3e4f-496c-b60e-0d477b9ebd38')\"\n",
              "              title=\"Convert this dataframe to an interactive table.\"\n",
              "              style=\"display:none;\">\n",
              "        \n",
              "  <svg xmlns=\"http://www.w3.org/2000/svg\" height=\"24px\"viewBox=\"0 0 24 24\"\n",
              "       width=\"24px\">\n",
              "    <path d=\"M0 0h24v24H0V0z\" fill=\"none\"/>\n",
              "    <path d=\"M18.56 5.44l.94 2.06.94-2.06 2.06-.94-2.06-.94-.94-2.06-.94 2.06-2.06.94zm-11 1L8.5 8.5l.94-2.06 2.06-.94-2.06-.94L8.5 2.5l-.94 2.06-2.06.94zm10 10l.94 2.06.94-2.06 2.06-.94-2.06-.94-.94-2.06-.94 2.06-2.06.94z\"/><path d=\"M17.41 7.96l-1.37-1.37c-.4-.4-.92-.59-1.43-.59-.52 0-1.04.2-1.43.59L10.3 9.45l-7.72 7.72c-.78.78-.78 2.05 0 2.83L4 21.41c.39.39.9.59 1.41.59.51 0 1.02-.2 1.41-.59l7.78-7.78 2.81-2.81c.8-.78.8-2.07 0-2.86zM5.41 20L4 18.59l7.72-7.72 1.47 1.35L5.41 20z\"/>\n",
              "  </svg>\n",
              "      </button>\n",
              "      \n",
              "  <style>\n",
              "    .colab-df-container {\n",
              "      display:flex;\n",
              "      flex-wrap:wrap;\n",
              "      gap: 12px;\n",
              "    }\n",
              "\n",
              "    .colab-df-convert {\n",
              "      background-color: #E8F0FE;\n",
              "      border: none;\n",
              "      border-radius: 50%;\n",
              "      cursor: pointer;\n",
              "      display: none;\n",
              "      fill: #1967D2;\n",
              "      height: 32px;\n",
              "      padding: 0 0 0 0;\n",
              "      width: 32px;\n",
              "    }\n",
              "\n",
              "    .colab-df-convert:hover {\n",
              "      background-color: #E2EBFA;\n",
              "      box-shadow: 0px 1px 2px rgba(60, 64, 67, 0.3), 0px 1px 3px 1px rgba(60, 64, 67, 0.15);\n",
              "      fill: #174EA6;\n",
              "    }\n",
              "\n",
              "    [theme=dark] .colab-df-convert {\n",
              "      background-color: #3B4455;\n",
              "      fill: #D2E3FC;\n",
              "    }\n",
              "\n",
              "    [theme=dark] .colab-df-convert:hover {\n",
              "      background-color: #434B5C;\n",
              "      box-shadow: 0px 1px 3px 1px rgba(0, 0, 0, 0.15);\n",
              "      filter: drop-shadow(0px 1px 2px rgba(0, 0, 0, 0.3));\n",
              "      fill: #FFFFFF;\n",
              "    }\n",
              "  </style>\n",
              "\n",
              "      <script>\n",
              "        const buttonEl =\n",
              "          document.querySelector('#df-0e9c388a-3e4f-496c-b60e-0d477b9ebd38 button.colab-df-convert');\n",
              "        buttonEl.style.display =\n",
              "          google.colab.kernel.accessAllowed ? 'block' : 'none';\n",
              "\n",
              "        async function convertToInteractive(key) {\n",
              "          const element = document.querySelector('#df-0e9c388a-3e4f-496c-b60e-0d477b9ebd38');\n",
              "          const dataTable =\n",
              "            await google.colab.kernel.invokeFunction('convertToInteractive',\n",
              "                                                     [key], {});\n",
              "          if (!dataTable) return;\n",
              "\n",
              "          const docLinkHtml = 'Like what you see? Visit the ' +\n",
              "            '<a target=\"_blank\" href=https://colab.research.google.com/notebooks/data_table.ipynb>data table notebook</a>'\n",
              "            + ' to learn more about interactive tables.';\n",
              "          element.innerHTML = '';\n",
              "          dataTable['output_type'] = 'display_data';\n",
              "          await google.colab.output.renderOutput(dataTable, element);\n",
              "          const docLink = document.createElement('div');\n",
              "          docLink.innerHTML = docLinkHtml;\n",
              "          element.appendChild(docLink);\n",
              "        }\n",
              "      </script>\n",
              "    </div>\n",
              "  </div>\n",
              "  "
            ]
          },
          "metadata": {},
          "execution_count": 89
        }
      ]
    },
    {
      "cell_type": "markdown",
      "source": [
        "## Create new field 'Length' which has the length of the tweet\n"
      ],
      "metadata": {
        "id": "zGuR-6zeiJr-"
      }
    },
    {
      "cell_type": "code",
      "source": [
        "data['Length']=data['Text'].apply(lambda x:len(x))"
      ],
      "metadata": {
        "id": "mFK9R4oefT8s"
      },
      "execution_count": null,
      "outputs": []
    },
    {
      "cell_type": "markdown",
      "source": [
        "##Data binning to figure out distribution of tweet lengths"
      ],
      "metadata": {
        "id": "v1DCKAejigbg"
      }
    },
    {
      "cell_type": "code",
      "source": [
        "data['Length'].plot.hist(bins=200)"
      ],
      "metadata": {
        "colab": {
          "base_uri": "https://localhost:8080/",
          "height": 282
        },
        "id": "e5sKO68ofVzm",
        "outputId": "c69cf24a-99fe-43b7-cf01-548d2713a9a8"
      },
      "execution_count": null,
      "outputs": [
        {
          "output_type": "execute_result",
          "data": {
            "text/plain": [
              "<matplotlib.axes._subplots.AxesSubplot at 0x7f95a1f65690>"
            ]
          },
          "metadata": {},
          "execution_count": 91
        },
        {
          "output_type": "display_data",
          "data": {
            "text/plain": [
              "<Figure size 432x288 with 1 Axes>"
            ],
            "image/png": "[encoded data removed]"
          },
          "metadata": {
            "needs_background": "light"
          }
        }
      ]
    },
    {
      "cell_type": "code",
      "source": [
        "data['Length'].describe()\n"
      ],
      "metadata": {
        "colab": {
          "base_uri": "https://localhost:8080/"
        },
        "id": "VU9cq6XRfX6j",
        "outputId": "54a42196-185d-48b9-b7e3-1f64a296d85e"
      },
      "execution_count": null,
      "outputs": [
        {
          "output_type": "execute_result",
          "data": {
            "text/plain": [
              "count    5791.000000\n",
              "mean       78.507857\n",
              "std        37.409135\n",
              "min         6.000000\n",
              "25%        48.000000\n",
              "50%        79.000000\n",
              "75%       106.000000\n",
              "max       154.000000\n",
              "Name: Length, dtype: float64"
            ]
          },
          "metadata": {},
          "execution_count": 92
        }
      ]
    },
    {
      "cell_type": "markdown",
      "source": [
        "## Data binning by sentiments (Positive/Negative)"
      ],
      "metadata": {
        "id": "G8FedfR2i0Tr"
      }
    },
    {
      "cell_type": "code",
      "source": [
        "plt.figure(figsize=(12,5))\n",
        "data.hist(column='Length',by='Sentiment',bins=150)"
      ],
      "metadata": {
        "colab": {
          "base_uri": "https://localhost:8080/",
          "height": 358
        },
        "id": "ANlec3xCfZ6h",
        "outputId": "e2f7413a-1c2a-467f-c8da-2cb4205889c0"
      },
      "execution_count": null,
      "outputs": [
        {
          "output_type": "execute_result",
          "data": {
            "text/plain": [
              "array([<matplotlib.axes._subplots.AxesSubplot object at 0x7f95a1d98190>,\n",
              "       <matplotlib.axes._subplots.AxesSubplot object at 0x7f95a1d45450>],\n",
              "      dtype=object)"
            ]
          },
          "metadata": {},
          "execution_count": 93
        },
        {
          "output_type": "display_data",
          "data": {
            "text/plain": [
              "<Figure size 864x360 with 0 Axes>"
            ]
          },
          "metadata": {}
        },
        {
          "output_type": "display_data",
          "data": {
            "text/plain": [
              "<Figure size 432x288 with 2 Axes>"
            ],
            "image/png": "[encoded data removed]"
          },
          "metadata": {
            "needs_background": "light"
          }
        }
      ]
    },
    {
      "cell_type": "markdown",
      "source": [
        "## Import Stopwords corpus for cleaning tweets"
      ],
      "metadata": {
        "id": "Exudv6w8jPpt"
      }
    },
    {
      "cell_type": "code",
      "source": [
        "import string\n",
        "from nltk.corpus import stopwords\n",
        "\n",
        "import nltk\n",
        "nltk.download('stopwords')"
      ],
      "metadata": {
        "colab": {
          "base_uri": "https://localhost:8080/"
        },
        "id": "Yq3si2LQfacG",
        "outputId": "0c01a99f-1228-4b06-938c-2ce1f49e5eb9"
      },
      "execution_count": null,
      "outputs": [
        {
          "output_type": "stream",
          "name": "stderr",
          "text": [
            "[nltk_data] Downloading package stopwords to /root/nltk_data...\n",
            "[nltk_data]   Package stopwords is already up-to-date!\n"
          ]
        },
        {
          "output_type": "execute_result",
          "data": {
            "text/plain": [
              "True"
            ]
          },
          "metadata": {},
          "execution_count": 94
        }
      ]
    },
    {
      "cell_type": "code",
      "source": [
        "def clean(text):\n",
        "    a=[f for f in text if f not in string.punctuation]\n",
        "    a=''.join(a)\n",
        "    b=[w for w in a.split() if w.lower() not in stopwords.words('english')]\n",
        "    return b"
      ],
      "metadata": {
        "id": "sbSjPA7VfeAM"
      },
      "execution_count": null,
      "outputs": []
    },
    {
      "cell_type": "code",
      "source": [
        "# Test clean function on 1 tweet\n",
        "check=data['Text'].head(1).apply(clean)\n"
      ],
      "metadata": {
        "id": "F-cy_nR7ffs9"
      },
      "execution_count": null,
      "outputs": []
    },
    {
      "cell_type": "code",
      "source": [
        "# Test\n",
        "print(check[0])"
      ],
      "metadata": {
        "colab": {
          "base_uri": "https://localhost:8080/"
        },
        "id": "NZoSmf41fhoP",
        "outputId": "305acd57-8c0e-4f6f-ece3-dd96cf051e30"
      },
      "execution_count": null,
      "outputs": [
        {
          "output_type": "stream",
          "name": "stdout",
          "text": [
            "['Kickers', 'watchlist', 'XIDE', 'TIT', 'SOQ', 'PNK', 'CPW', 'BPZ', 'AJ', 'trade', 'method', '1', 'method', '2', 'see', 'prev', 'posts']\n"
          ]
        }
      ]
    },
    {
      "cell_type": "code",
      "source": [
        "from sklearn.feature_extraction.text import CountVectorizer\n",
        "from sklearn.feature_extraction.text import TfidfTransformer\n",
        "from sklearn.pipeline import Pipeline\n",
        "from sklearn.model_selection import train_test_split\n",
        "from sklearn.metrics import classification_report,confusion_matrix,accuracy_score\n",
        "from sklearn.feature_extraction.text import TfidfVectorizer"
      ],
      "metadata": {
        "id": "4sHPfAx_fjzY"
      },
      "execution_count": null,
      "outputs": []
    },
    {
      "cell_type": "code",
      "source": [
        "# # Cleaning all our data set from punctuations and stopwords\n",
        "# words=CountVectorizer(analyzer=clean).fit(data['Text'])\n",
        "# print(len(words.vocabulary_))\n"
      ],
      "metadata": {
        "id": "rH7YMOTCflwP"
      },
      "execution_count": null,
      "outputs": []
    },
    {
      "cell_type": "markdown",
      "source": [
        "# Approach\n",
        "\n",
        "## Data cleaning, vectorization and transformation"
      ],
      "metadata": {
        "id": "M7yjhbQNo8eS"
      }
    },
    {
      "cell_type": "markdown",
      "source": [
        "Split data into train, test"
      ],
      "metadata": {
        "id": "3ZcQ2ev0uFIy"
      }
    },
    {
      "cell_type": "code",
      "source": [
        "x_train,x_test,y_train,y_test=train_test_split(data['Text'],data['Sentiment'],test_size=0.3,random_state=101)\n"
      ],
      "metadata": {
        "id": "M5JoraeDruz7"
      },
      "execution_count": null,
      "outputs": []
    },
    {
      "cell_type": "markdown",
      "source": [
        "Count vectorization"
      ],
      "metadata": {
        "id": "-vsx1hwKuP9z"
      }
    },
    {
      "cell_type": "code",
      "source": [
        "cv = CountVectorizer(analyzer=clean)"
      ],
      "metadata": {
        "id": "fkAqk-2_ruwo"
      },
      "execution_count": null,
      "outputs": []
    },
    {
      "cell_type": "code",
      "source": [
        "words = cv.fit(x_train)"
      ],
      "metadata": {
        "id": "zUtwvNP2ruta"
      },
      "execution_count": null,
      "outputs": []
    },
    {
      "cell_type": "code",
      "source": [
        "tweets=words.transform(x_train)\n",
        "print(tweets.shape)"
      ],
      "metadata": {
        "colab": {
          "base_uri": "https://localhost:8080/"
        },
        "id": "KvhLS4ybrupy",
        "outputId": "9b9563a9-bc11-454a-98cb-79d9a69f5859"
      },
      "execution_count": null,
      "outputs": [
        {
          "output_type": "stream",
          "name": "stdout",
          "text": [
            "(4053, 10730)\n"
          ]
        }
      ]
    },
    {
      "cell_type": "markdown",
      "source": [
        "\n",
        "## TFIDF transformer\n",
        "\n",
        "Perform TFIDF transformation on the vectorized data."
      ],
      "metadata": {
        "id": "f2fh3OavuS_C"
      }
    },
    {
      "cell_type": "code",
      "source": [
        "tf=TfidfTransformer()\n",
        "tf.fit(tweets)"
      ],
      "metadata": {
        "id": "VKgTraYGrunE",
        "colab": {
          "base_uri": "https://localhost:8080/"
        },
        "outputId": "d74e2ef6-9d2a-430f-c8a7-8048396775d7"
      },
      "execution_count": null,
      "outputs": [
        {
          "output_type": "execute_result",
          "data": {
            "text/plain": [
              "TfidfTransformer()"
            ]
          },
          "metadata": {},
          "execution_count": 105
        }
      ]
    },
    {
      "cell_type": "code",
      "source": [
        "final_transform=tf.transform(tweets)"
      ],
      "metadata": {
        "id": "eU3KTkDHrujL"
      },
      "execution_count": null,
      "outputs": []
    },
    {
      "cell_type": "markdown",
      "source": [
        "# Classifiers"
      ],
      "metadata": {
        "id": "IO_AT6-tXjH0"
      }
    },
    {
      "cell_type": "markdown",
      "source": [
        "## Logistic Regression"
      ],
      "metadata": {
        "id": "oebqf4eIU802"
      }
    },
    {
      "cell_type": "markdown",
      "source": [
        "Logistic regression is a supervised learning classification algorithm used to predict the probability of a target variable. The nature of target or dependent variable is dichotomous, which means there would be only two possible classes.\n",
        "\n",
        "In simple words, the dependent variable is binary in nature having data coded as either 1 (stands for success/yes) or 0 (stands for failure/no). Logistic regression model predicts P(Y=1) as a function of X."
      ],
      "metadata": {
        "id": "5dlHuVFVhFWa"
      }
    },
    {
      "cell_type": "markdown",
      "source": [
        "Build model"
      ],
      "metadata": {
        "id": "A6Xw6ojpVOuz"
      }
    },
    {
      "cell_type": "code",
      "source": [
        "from sklearn.linear_model import LogisticRegression\n",
        "classifier = LogisticRegression()\n",
        "modelfitting = classifier.fit(final_transform, y_train)\n"
      ],
      "metadata": {
        "id": "qAxGrW_jU8kD"
      },
      "execution_count": null,
      "outputs": []
    },
    {
      "cell_type": "markdown",
      "source": [
        "Prediction"
      ],
      "metadata": {
        "id": "fZouxmO7VqzH"
      }
    },
    {
      "cell_type": "code",
      "source": [
        "# Predictions\n",
        "\n",
        "# Count Vectorization of X_test\n",
        "tweets_test = words.transform(x_test)\n",
        "print(tweets_test.shape)\n",
        "\n",
        "# TFIDF Vectorization\n",
        "final_transform_test = tf.transform(tweets_test)\n",
        "print(final_transform_test.shape)\n",
        "\n",
        "# Classifier predict\n",
        "y_predict = modelfitting.predict(final_transform_test)\n",
        "print(y_predict.shape)\n",
        "\n",
        "print (\"############# Classification Report ##############\")\n",
        "print(classification_report(y_predict,y_test))\n",
        "print (\"##################################################\")\n",
        "\n",
        "print (\"############# Confusion Matrix ##############\")\n",
        "print(confusion_matrix(y_predict,y_test))\n",
        "print (\"##################################################\")\n"
      ],
      "metadata": {
        "colab": {
          "base_uri": "https://localhost:8080/"
        },
        "id": "UyhmOCiIU8R7",
        "outputId": "748feebc-b8bc-49a7-8a0e-0718a312b7e6"
      },
      "execution_count": null,
      "outputs": [
        {
          "output_type": "stream",
          "name": "stdout",
          "text": [
            "(1738, 10730)\n",
            "(1738, 10730)\n",
            "(1738,)\n",
            "############# Classification Report ##############\n",
            "              precision    recall  f1-score   support\n",
            "\n",
            "          -1       0.42      0.77      0.54       342\n",
            "           1       0.93      0.73      0.82      1396\n",
            "\n",
            "    accuracy                           0.74      1738\n",
            "   macro avg       0.67      0.75      0.68      1738\n",
            "weighted avg       0.83      0.74      0.77      1738\n",
            "\n",
            "##################################################\n",
            "############# Confusion Matrix ##############\n",
            "[[ 264   78]\n",
            " [ 371 1025]]\n",
            "##################################################\n"
          ]
        }
      ]
    },
    {
      "cell_type": "markdown",
      "source": [
        "## Support Vector Machine"
      ],
      "metadata": {
        "id": "gYNbt3ycVyTN"
      }
    },
    {
      "cell_type": "markdown",
      "source": [
        "An SVM model is basically a representation of different classes in a hyperplane in multidimensional space. The hyperplane will be generated in an iterative manner by SVM so that the error can be minimized. The goal of SVM is to divide the datasets into classes to find a maximum marginal hyperplane (MMH).\n",
        "\n",
        "The followings are important concepts in SVM −\n",
        "\n",
        "1. **Support Vectors** − Datapoints that are closest to the hyperplane is called support vectors. Separating line will be defined with the help of these data points.\n",
        "\n",
        "2. **Hyperplane** − As we can see in the above diagram, it is a decision plane or space which is divided between a set of objects having different classes.\n",
        "\n",
        "3. **Margin** − It may be defined as the gap between two lines on the closet data points of different classes. It can be calculated as the perpendicular distance from the line to the support vectors. Large margin is considered as a good margin and small margin is considered as a bad margin.\n",
        "\n",
        "The main goal of SVM is to divide the datasets into classes to find a maximum marginal hyperplane (MMH)"
      ],
      "metadata": {
        "id": "lnUV9mtgf6-T"
      }
    },
    {
      "cell_type": "markdown",
      "source": [
        "Build model"
      ],
      "metadata": {
        "id": "4uhXFVlNVyTO"
      }
    },
    {
      "cell_type": "code",
      "source": [
        "from sklearn.svm import SVC\n",
        "classifier = SVC()\n",
        "modelfitting=classifier.fit(final_transform,y_train)\n"
      ],
      "metadata": {
        "id": "GqOg6ZbXVyTO"
      },
      "execution_count": null,
      "outputs": []
    },
    {
      "cell_type": "markdown",
      "source": [
        "Prediction"
      ],
      "metadata": {
        "id": "c5MmDw04VyTP"
      }
    },
    {
      "cell_type": "code",
      "source": [
        "# Predictions\n",
        "\n",
        "# Count Vectorization of X_test\n",
        "tweets_test = words.transform(x_test)\n",
        "print(tweets_test.shape)\n",
        "\n",
        "# TFIDF Vectorization\n",
        "final_transform_test = tf.transform(tweets_test)\n",
        "print(final_transform_test.shape)\n",
        "\n",
        "# Classifier predict\n",
        "y_predict = modelfitting.predict(final_transform_test)\n",
        "print(y_predict.shape)\n",
        "\n",
        "print (\"############# Classification Report ##############\")\n",
        "print(classification_report(y_predict,y_test))\n",
        "print (\"##################################################\")\n",
        "\n",
        "print (\"############# Confusion Matrix ##############\")\n",
        "print(confusion_matrix(y_predict,y_test))\n",
        "print (\"##################################################\")\n"
      ],
      "metadata": {
        "colab": {
          "base_uri": "https://localhost:8080/"
        },
        "id": "7oq1YU3jVyTP",
        "outputId": "dab7cf4f-277f-49cc-f82d-83803d4e0749"
      },
      "execution_count": null,
      "outputs": [
        {
          "output_type": "stream",
          "name": "stdout",
          "text": [
            "(1738, 10730)\n",
            "(1738, 10730)\n",
            "(1738,)\n",
            "############# Classification Report ##############\n",
            "              precision    recall  f1-score   support\n",
            "\n",
            "          -1       0.42      0.82      0.56       326\n",
            "           1       0.95      0.74      0.83      1412\n",
            "\n",
            "    accuracy                           0.75      1738\n",
            "   macro avg       0.68      0.78      0.69      1738\n",
            "weighted avg       0.85      0.75      0.78      1738\n",
            "\n",
            "##################################################\n",
            "############# Confusion Matrix ##############\n",
            "[[ 267   59]\n",
            " [ 368 1044]]\n",
            "##################################################\n"
          ]
        }
      ]
    },
    {
      "cell_type": "markdown",
      "source": [
        "## Decision Tree Classifier"
      ],
      "metadata": {
        "id": "GCgOfjBpWLYx"
      }
    },
    {
      "cell_type": "markdown",
      "source": [
        "Decision tree analysis is a predictive modelling tool that can be applied across many areas. Decision trees can be constructed by an algorithmic approach that can split the dataset in different ways based on different conditions. The two main entities of a tree are decision nodes, where the data is split and leaves, where we got outcome."
      ],
      "metadata": {
        "id": "XBjV-TEBgSBH"
      }
    },
    {
      "cell_type": "markdown",
      "source": [
        "Build model"
      ],
      "metadata": {
        "id": "2MmLFLJPWLY7"
      }
    },
    {
      "cell_type": "code",
      "source": [
        "from sklearn.tree import DecisionTreeClassifier\n",
        "classifier = DecisionTreeClassifier()\n",
        "modelfitting=classifier.fit(final_transform,y_train)\n"
      ],
      "metadata": {
        "id": "PDXNu-1FWLY7"
      },
      "execution_count": null,
      "outputs": []
    },
    {
      "cell_type": "markdown",
      "source": [
        "Prediction"
      ],
      "metadata": {
        "id": "7VoGGXL0WLY7"
      }
    },
    {
      "cell_type": "code",
      "source": [
        "# Predictions\n",
        "\n",
        "# Count Vectorization of X_test\n",
        "tweets_test = words.transform(x_test)\n",
        "print(tweets_test.shape)\n",
        "\n",
        "# TFIDF Vectorization\n",
        "final_transform_test = tf.transform(tweets_test)\n",
        "print(final_transform_test.shape)\n",
        "\n",
        "# Classifier predict\n",
        "y_predict = modelfitting.predict(final_transform_test)\n",
        "print(y_predict.shape)\n",
        "\n",
        "print (\"############# Classification Report ##############\")\n",
        "print(classification_report(y_predict,y_test))\n",
        "print (\"##################################################\")\n",
        "\n",
        "print (\"############# Confusion Matrix ##############\")\n",
        "print(confusion_matrix(y_predict,y_test))\n",
        "print (\"##################################################\")\n"
      ],
      "metadata": {
        "colab": {
          "base_uri": "https://localhost:8080/"
        },
        "id": "zBMilNYhWLY7",
        "outputId": "cc4586c4-9c86-40ef-a027-09504fa19ab1"
      },
      "execution_count": null,
      "outputs": [
        {
          "output_type": "stream",
          "name": "stdout",
          "text": [
            "(1738, 10730)\n",
            "(1738, 10730)\n",
            "(1738,)\n",
            "############# Classification Report ##############\n",
            "              precision    recall  f1-score   support\n",
            "\n",
            "          -1       0.60      0.59      0.60       646\n",
            "           1       0.76      0.77      0.76      1092\n",
            "\n",
            "    accuracy                           0.70      1738\n",
            "   macro avg       0.68      0.68      0.68      1738\n",
            "weighted avg       0.70      0.70      0.70      1738\n",
            "\n",
            "##################################################\n",
            "############# Confusion Matrix ##############\n",
            "[[382 264]\n",
            " [253 839]]\n",
            "##################################################\n"
          ]
        }
      ]
    },
    {
      "cell_type": "markdown",
      "source": [
        "## Multinomial Naive Bayes Classifier"
      ],
      "metadata": {
        "id": "g3hX5433WWuG"
      }
    },
    {
      "cell_type": "markdown",
      "source": [
        "Naïve Bayes algorithms is a classification technique based on applying Bayes’ theorem with a strong assumption that all the predictors are independent to each other. In simple words, the assumption is that the presence of a feature in a class is independent to the presence of any other feature in the same class.\n",
        "\n",
        "In Bayesian classification, the main interest is to find the posterior probabilities"
      ],
      "metadata": {
        "id": "gOY74xw8ge19"
      }
    },
    {
      "cell_type": "markdown",
      "source": [
        "Build model"
      ],
      "metadata": {
        "id": "mrl1xS6cWWuG"
      }
    },
    {
      "cell_type": "code",
      "source": [
        "from sklearn.naive_bayes import MultinomialNB\n",
        "classifier = MultinomialNB()\n",
        "modelfitting=classifier.fit(final_transform,y_train)\n"
      ],
      "metadata": {
        "id": "i6drX15nWWuG"
      },
      "execution_count": null,
      "outputs": []
    },
    {
      "cell_type": "markdown",
      "source": [
        "Prediction"
      ],
      "metadata": {
        "id": "EwYfLdczWWuH"
      }
    },
    {
      "cell_type": "code",
      "source": [
        "# Predictions\n",
        "\n",
        "# Count Vectorization of X_test\n",
        "tweets_test = words.transform(x_test)\n",
        "print(tweets_test.shape)\n",
        "\n",
        "# TFIDF Vectorization\n",
        "final_transform_test = tf.transform(tweets_test)\n",
        "print(final_transform_test.shape)\n",
        "\n",
        "# Classifier predict\n",
        "y_predict = modelfitting.predict(final_transform_test)\n",
        "print(y_predict.shape)\n",
        "\n",
        "print (\"############# Classification Report ##############\")\n",
        "print(classification_report(y_predict,y_test))\n",
        "print (\"##################################################\")\n",
        "\n",
        "print (\"############# Confusion Matrix ##############\")\n",
        "print(confusion_matrix(y_predict,y_test))\n",
        "print (\"##################################################\")\n"
      ],
      "metadata": {
        "colab": {
          "base_uri": "https://localhost:8080/"
        },
        "id": "E0Mtv8stWWuH",
        "outputId": "fc8020c8-1e2d-4f3f-cd48-3a10b466e1a0"
      },
      "execution_count": null,
      "outputs": [
        {
          "output_type": "stream",
          "name": "stdout",
          "text": [
            "(1738, 10730)\n",
            "(1738, 10730)\n",
            "(1738,)\n",
            "############# Classification Report ##############\n",
            "              precision    recall  f1-score   support\n",
            "\n",
            "          -1       0.27      0.85      0.41       205\n",
            "           1       0.97      0.70      0.81      1533\n",
            "\n",
            "    accuracy                           0.72      1738\n",
            "   macro avg       0.62      0.77      0.61      1738\n",
            "weighted avg       0.89      0.72      0.77      1738\n",
            "\n",
            "##################################################\n",
            "############# Confusion Matrix ##############\n",
            "[[ 174   31]\n",
            " [ 461 1072]]\n",
            "##################################################\n"
          ]
        }
      ]
    },
    {
      "cell_type": "markdown",
      "source": [
        "## Stochastic Gradient Descent Classifier"
      ],
      "metadata": {
        "id": "re87Il5vWf60"
      }
    },
    {
      "cell_type": "markdown",
      "source": [
        "This estimator implements regularized linear models with stochastic gradient descent (SGD) learning: the gradient of the loss is estimated each sample at a time and the model is updated along the way with a decreasing strength schedule (aka learning rate)"
      ],
      "metadata": {
        "id": "mmBnTlhCgjgF"
      }
    },
    {
      "cell_type": "markdown",
      "source": [
        "Build model"
      ],
      "metadata": {
        "id": "Vabez9AEWf60"
      }
    },
    {
      "cell_type": "code",
      "source": [
        "from sklearn.linear_model import SGDClassifier\n",
        "classifier = SGDClassifier()\n",
        "modelfitting=classifier.fit(final_transform,y_train)\n"
      ],
      "metadata": {
        "id": "XqTbrEj-Wf60"
      },
      "execution_count": null,
      "outputs": []
    },
    {
      "cell_type": "markdown",
      "source": [
        "Prediction"
      ],
      "metadata": {
        "id": "aKewSnqyWf61"
      }
    },
    {
      "cell_type": "code",
      "source": [
        "# Predictions\n",
        "\n",
        "# Count Vectorization of X_test\n",
        "tweets_test = words.transform(x_test)\n",
        "print(tweets_test.shape)\n",
        "\n",
        "# TFIDF Vectorization\n",
        "final_transform_test = tf.transform(tweets_test)\n",
        "print(final_transform_test.shape)\n",
        "\n",
        "# Classifier predict\n",
        "y_predict = modelfitting.predict(final_transform_test)\n",
        "print(y_predict.shape)\n",
        "\n",
        "print (\"############# Classification Report ##############\")\n",
        "print(classification_report(y_predict,y_test))\n",
        "print (\"##################################################\")\n",
        "\n",
        "print (\"############# Confusion Matrix ##############\")\n",
        "print(confusion_matrix(y_predict,y_test))\n",
        "print (\"##################################################\")\n"
      ],
      "metadata": {
        "colab": {
          "base_uri": "https://localhost:8080/"
        },
        "id": "6MEUOBJbWf61",
        "outputId": "603437e3-6aa7-4d84-eb04-fe558b1ce352"
      },
      "execution_count": null,
      "outputs": [
        {
          "output_type": "stream",
          "name": "stdout",
          "text": [
            "(1738, 10730)\n",
            "(1738, 10730)\n",
            "(1738,)\n",
            "############# Classification Report ##############\n",
            "              precision    recall  f1-score   support\n",
            "\n",
            "          -1       0.61      0.68      0.65       567\n",
            "           1       0.84      0.79      0.81      1171\n",
            "\n",
            "    accuracy                           0.75      1738\n",
            "   macro avg       0.72      0.74      0.73      1738\n",
            "weighted avg       0.76      0.75      0.76      1738\n",
            "\n",
            "##################################################\n",
            "############# Confusion Matrix ##############\n",
            "[[388 179]\n",
            " [247 924]]\n",
            "##################################################\n"
          ]
        }
      ]
    },
    {
      "cell_type": "markdown",
      "source": [
        "## K Nearest Neighbours Classifier"
      ],
      "metadata": {
        "id": "KwmbQgVjWkDu"
      }
    },
    {
      "cell_type": "markdown",
      "source": [
        "The k-nearest neighbors algorithm, also known as KNN or k-NN, is a non-parametric, supervised learning classifier, which uses proximity to make classifications or predictions about the grouping of an individual data point. While it can be used for either regression or classification problems, it is typically used as a classification algorithm, working off the assumption that similar points can be found near one another."
      ],
      "metadata": {
        "id": "AzHdZbswg38H"
      }
    },
    {
      "cell_type": "markdown",
      "source": [
        "Build model"
      ],
      "metadata": {
        "id": "1posPcy2WkDv"
      }
    },
    {
      "cell_type": "code",
      "source": [
        "from sklearn.neighbors import KNeighborsClassifier\n",
        "classifier = KNeighborsClassifier()\n",
        "modelfitting=classifier.fit(final_transform,y_train)\n"
      ],
      "metadata": {
        "id": "4x2OseDtWkDv"
      },
      "execution_count": null,
      "outputs": []
    },
    {
      "cell_type": "markdown",
      "source": [
        "Prediction"
      ],
      "metadata": {
        "id": "EgeXMx3wWkDv"
      }
    },
    {
      "cell_type": "code",
      "source": [
        "# Predictions\n",
        "\n",
        "# Count Vectorization of X_test\n",
        "tweets_test = words.transform(x_test)\n",
        "print(tweets_test.shape)\n",
        "\n",
        "# TFIDF Vectorization\n",
        "final_transform_test = tf.transform(tweets_test)\n",
        "print(final_transform_test.shape)\n",
        "\n",
        "# Classifier predict\n",
        "y_predict = modelfitting.predict(final_transform_test)\n",
        "print(y_predict.shape)\n",
        "\n",
        "print (\"############# Classification Report ##############\")\n",
        "print(classification_report(y_predict,y_test))\n",
        "print (\"##################################################\")\n",
        "\n",
        "print (\"############# Confusion Matrix ##############\")\n",
        "print(confusion_matrix(y_predict,y_test))\n",
        "print (\"##################################################\")\n"
      ],
      "metadata": {
        "colab": {
          "base_uri": "https://localhost:8080/"
        },
        "id": "9Tp5RecXWkDw",
        "outputId": "c2482851-cfb2-41c5-e893-7547143f2cfb"
      },
      "execution_count": null,
      "outputs": [
        {
          "output_type": "stream",
          "name": "stdout",
          "text": [
            "(1738, 10730)\n",
            "(1738, 10730)\n",
            "(1738,)\n",
            "############# Classification Report ##############\n",
            "              precision    recall  f1-score   support\n",
            "\n",
            "          -1       0.51      0.67      0.58       483\n",
            "           1       0.86      0.75      0.80      1255\n",
            "\n",
            "    accuracy                           0.73      1738\n",
            "   macro avg       0.69      0.71      0.69      1738\n",
            "weighted avg       0.76      0.73      0.74      1738\n",
            "\n",
            "##################################################\n",
            "############# Confusion Matrix ##############\n",
            "[[326 157]\n",
            " [309 946]]\n",
            "##################################################\n"
          ]
        }
      ]
    },
    {
      "cell_type": "markdown",
      "source": [
        "## Random Forest Classifier"
      ],
      "metadata": {
        "id": "PYKJqo7cWkvQ"
      }
    },
    {
      "cell_type": "markdown",
      "source": [
        "Random forest is a supervised learning algorithm which is used for both classification as well as regression. But however, it is mainly used for classification problems. As we know that a forest is made up of trees and more trees means more robust forest. Similarly, random forest algorithm creates decision trees on data samples and then gets the prediction from each of them and finally selects the best solution by means of voting. It is an ensemble method which is better than a single decision tree because it reduces the over-fitting by averaging the result."
      ],
      "metadata": {
        "id": "5sLY9esJg-qX"
      }
    },
    {
      "cell_type": "markdown",
      "source": [
        "Build model"
      ],
      "metadata": {
        "id": "m170mj0uWkvQ"
      }
    },
    {
      "cell_type": "code",
      "source": [
        "from sklearn.ensemble import RandomForestClassifier\n",
        "classifier = RandomForestClassifier()\n",
        "modelfitting=classifier.fit(final_transform,y_train)\n"
      ],
      "metadata": {
        "id": "HLSwtqEDWkvR"
      },
      "execution_count": null,
      "outputs": []
    },
    {
      "cell_type": "markdown",
      "source": [
        "Prediction"
      ],
      "metadata": {
        "id": "BrQIfzQDWkvR"
      }
    },
    {
      "cell_type": "code",
      "source": [
        "# Predictions\n",
        "\n",
        "# Count Vectorization of X_test\n",
        "tweets_test = words.transform(x_test)\n",
        "print(tweets_test.shape)\n",
        "\n",
        "# TFIDF Vectorization\n",
        "final_transform_test = tf.transform(tweets_test)\n",
        "print(final_transform_test.shape)\n",
        "\n",
        "# Classifier predict\n",
        "y_predict = modelfitting.predict(final_transform_test)\n",
        "print(y_predict.shape)\n",
        "\n",
        "print (\"############# Classification Report ##############\")\n",
        "print(classification_report(y_predict,y_test))\n",
        "print (\"##################################################\")\n",
        "\n",
        "print (\"############# Confusion Matrix ##############\")\n",
        "print(confusion_matrix(y_predict,y_test))\n",
        "print (\"##################################################\")\n"
      ],
      "metadata": {
        "colab": {
          "base_uri": "https://localhost:8080/"
        },
        "id": "xstJP7uqWkvR",
        "outputId": "eb184393-b5b6-4ac9-9349-c299631f0abe"
      },
      "execution_count": null,
      "outputs": [
        {
          "output_type": "stream",
          "name": "stdout",
          "text": [
            "(1738, 10730)\n",
            "(1738, 10730)\n",
            "(1738,)\n",
            "############# Classification Report ##############\n",
            "              precision    recall  f1-score   support\n",
            "\n",
            "          -1       0.53      0.72      0.61       470\n",
            "           1       0.88      0.77      0.82      1268\n",
            "\n",
            "    accuracy                           0.75      1738\n",
            "   macro avg       0.71      0.74      0.72      1738\n",
            "weighted avg       0.79      0.75      0.76      1738\n",
            "\n",
            "##################################################\n",
            "############# Confusion Matrix ##############\n",
            "[[339 131]\n",
            " [296 972]]\n",
            "##################################################\n"
          ]
        }
      ]
    },
    {
      "cell_type": "markdown",
      "source": [
        "## Gradient Boosting Classifier"
      ],
      "metadata": {
        "id": "pqBGkJeqWlV5"
      }
    },
    {
      "cell_type": "markdown",
      "source": [
        "This algorithm builds an additive model in a forward stage-wise fashion; it allows for the optimization of arbitrary differentiable loss functions. In each stage n_classes_ regression trees are fit on the negative gradient of the loss function, e.g. binary or multiclass log loss. Binary classification is a special case where only a single regression tree is induced."
      ],
      "metadata": {
        "id": "mZi5ONv_hGu8"
      }
    },
    {
      "cell_type": "markdown",
      "source": [
        "Build model"
      ],
      "metadata": {
        "id": "r4ddXiGiWlV6"
      }
    },
    {
      "cell_type": "code",
      "source": [
        "from sklearn.ensemble import GradientBoostingClassifier\n",
        "classifier = GradientBoostingClassifier()\n",
        "modelfitting=classifier.fit(final_transform,y_train)\n"
      ],
      "metadata": {
        "id": "od92DNJBWlV6"
      },
      "execution_count": null,
      "outputs": []
    },
    {
      "cell_type": "markdown",
      "source": [
        "Prediction"
      ],
      "metadata": {
        "id": "Dq4CN96pWlV6"
      }
    },
    {
      "cell_type": "code",
      "source": [
        "# Predictions\n",
        "\n",
        "# Count Vectorization of X_test\n",
        "tweets_test = words.transform(x_test)\n",
        "print(tweets_test.shape)\n",
        "\n",
        "# TFIDF Vectorization\n",
        "final_transform_test = tf.transform(tweets_test)\n",
        "print(final_transform_test.shape)\n",
        "\n",
        "# Classifier predict\n",
        "y_predict = modelfitting.predict(final_transform_test)\n",
        "print(y_predict.shape)\n",
        "\n",
        "print (\"############# Classification Report ##############\")\n",
        "print(classification_report(y_predict,y_test))\n",
        "print (\"##################################################\")\n",
        "\n",
        "print (\"############# Confusion Matrix ##############\")\n",
        "print(confusion_matrix(y_predict,y_test))\n",
        "print (\"##################################################\")\n"
      ],
      "metadata": {
        "colab": {
          "base_uri": "https://localhost:8080/"
        },
        "id": "7CKHGw-XWlV7",
        "outputId": "387d604e-12d7-46df-bb34-d176c6e02437"
      },
      "execution_count": null,
      "outputs": [
        {
          "output_type": "stream",
          "name": "stdout",
          "text": [
            "(1738, 10730)\n",
            "(1738, 10730)\n",
            "(1738,)\n",
            "############# Classification Report ##############\n",
            "              precision    recall  f1-score   support\n",
            "\n",
            "          -1       0.33      0.76      0.46       276\n",
            "           1       0.94      0.71      0.81      1462\n",
            "\n",
            "    accuracy                           0.72      1738\n",
            "   macro avg       0.64      0.74      0.63      1738\n",
            "weighted avg       0.84      0.72      0.75      1738\n",
            "\n",
            "##################################################\n",
            "############# Confusion Matrix ##############\n",
            "[[ 210   66]\n",
            " [ 425 1037]]\n",
            "##################################################\n"
          ]
        }
      ]
    },
    {
      "cell_type": "markdown",
      "source": [
        "## XGBoost Classifier"
      ],
      "metadata": {
        "id": "SohyLsOVWl5j"
      }
    },
    {
      "cell_type": "markdown",
      "source": [
        "XGBoost, which stands for Extreme Gradient Boosting, is a scalable, distributed gradient-boosted decision tree (GBDT) machine learning library. It provides parallel tree boosting and is the leading machine learning library for regression, classification, and ranking problems."
      ],
      "metadata": {
        "id": "zE6kjBUOhoJE"
      }
    },
    {
      "cell_type": "markdown",
      "source": [
        "Build model"
      ],
      "metadata": {
        "id": "G2W1MNghWl5k"
      }
    },
    {
      "cell_type": "code",
      "source": [
        "from xgboost.sklearn import XGBClassifier\n",
        "classifier = XGBClassifier()\n",
        "modelfitting=classifier.fit(final_transform,y_train)\n"
      ],
      "metadata": {
        "id": "SDcaMuN-Wl5k"
      },
      "execution_count": null,
      "outputs": []
    },
    {
      "cell_type": "markdown",
      "source": [
        "Prediction"
      ],
      "metadata": {
        "id": "v-rkKDsPWl5k"
      }
    },
    {
      "cell_type": "code",
      "source": [
        "# Predictions\n",
        "\n",
        "# Count Vectorization of X_test\n",
        "tweets_test = words.transform(x_test)\n",
        "print(tweets_test.shape)\n",
        "\n",
        "# TFIDF Vectorization\n",
        "final_transform_test = tf.transform(tweets_test)\n",
        "print(final_transform_test.shape)\n",
        "\n",
        "# Classifier predict\n",
        "y_predict = modelfitting.predict(final_transform_test)\n",
        "print(y_predict.shape)\n",
        "\n",
        "print (\"############# Classification Report ##############\")\n",
        "print(classification_report(y_predict,y_test))\n",
        "print (\"##################################################\")\n",
        "\n",
        "print (\"############# Confusion Matrix ##############\")\n",
        "print(confusion_matrix(y_predict,y_test))\n",
        "print (\"##################################################\")\n"
      ],
      "metadata": {
        "colab": {
          "base_uri": "https://localhost:8080/"
        },
        "id": "-vrEhbdgWl5k",
        "outputId": "80a8df7f-44a7-44e5-95a8-7f8e9de97c1a"
      },
      "execution_count": null,
      "outputs": [
        {
          "output_type": "stream",
          "name": "stdout",
          "text": [
            "(1738, 10730)\n",
            "(1738, 10730)\n",
            "(1738,)\n",
            "############# Classification Report ##############\n",
            "              precision    recall  f1-score   support\n",
            "\n",
            "          -1       0.38      0.72      0.50       333\n",
            "           1       0.92      0.72      0.81      1405\n",
            "\n",
            "    accuracy                           0.72      1738\n",
            "   macro avg       0.65      0.72      0.65      1738\n",
            "weighted avg       0.81      0.72      0.75      1738\n",
            "\n",
            "##################################################\n",
            "############# Confusion Matrix ##############\n",
            "[[ 241   92]\n",
            " [ 394 1011]]\n",
            "##################################################\n"
          ]
        }
      ]
    },
    {
      "cell_type": "markdown",
      "source": [
        "# Classifier testing section"
      ],
      "metadata": {
        "id": "rhjgz_2GXsNW"
      }
    },
    {
      "cell_type": "markdown",
      "source": [
        "Classifier on input"
      ],
      "metadata": {
        "id": "am2NcOXMuVux"
      }
    },
    {
      "cell_type": "markdown",
      "source": [
        "Multinomial Naive Bayes Classifier"
      ],
      "metadata": {
        "id": "1E5aV1swDpQo"
      }
    },
    {
      "cell_type": "code",
      "source": [
        "# from sklearn.linear_model import LogisticRegression\n",
        "# classifier = LogisticRegression()\n",
        "\n",
        "# from sklearn.tree import DecisionTreeClassifier\n",
        "# classifier = DecisionTreeClassifier()\n",
        "\n",
        "# from sklearn.svm import SVC\n",
        "# classifier = SVC()\n",
        "\n",
        "# from sklearn.naive_bayes import MultinomialNB\n",
        "# classifier = MultinomialNB()\n",
        "\n",
        "# from sklearn.linear_model import SGDClassifier\n",
        "# classifier = SGDClassifier()\n",
        "\n",
        "# from sklearn.neighbors import KNeighborsClassifier\n",
        "# classifier = KNeighborsClassifier()\n",
        "\n",
        "# from sklearn.ensemble import RandomForestClassifier\n",
        "# classifier = RandomForestClassifier()\n",
        "\n",
        "# from sklearn.ensemble import GradientBoostingClassifier\n",
        "# classifier = GradientBoostingClassifier()\n",
        "\n",
        "from xgboost.sklearn import XGBClassifier\n",
        "classifier = XGBClassifier()\n"
      ],
      "metadata": {
        "id": "1cUxh1c4rufr"
      },
      "execution_count": null,
      "outputs": []
    },
    {
      "cell_type": "code",
      "source": [
        "modelfitting=classifier.fit(final_transform,y_train)"
      ],
      "metadata": {
        "id": "OhDie1UYrucF"
      },
      "execution_count": null,
      "outputs": []
    },
    {
      "cell_type": "markdown",
      "source": [
        "Prediction on Test data"
      ],
      "metadata": {
        "id": "bZANihICsAMV"
      }
    },
    {
      "cell_type": "code",
      "source": [
        "# Count Vectorization of X_test\n",
        "tweets_test = words.transform(x_test)\n",
        "print(tweets_test.shape)\n",
        "\n",
        "# TFIDF Vectorization\n",
        "final_transform_test = tf.transform(tweets_test)\n",
        "print(final_transform_test.shape)\n",
        "\n",
        "# Classifier predict\n",
        "y_predict = modelfitting.predict(final_transform_test)\n",
        "print(y_predict.shape)\n",
        "\n"
      ],
      "metadata": {
        "colab": {
          "base_uri": "https://localhost:8080/"
        },
        "id": "2tphox99ruKZ",
        "outputId": "e54beba5-9cff-4d1c-afda-1076ac01a6aa"
      },
      "execution_count": null,
      "outputs": [
        {
          "output_type": "stream",
          "name": "stdout",
          "text": [
            "(1738, 10730)\n",
            "(1738, 10730)\n",
            "(1738,)\n"
          ]
        }
      ]
    },
    {
      "cell_type": "code",
      "source": [
        "# print(classification_report(y_predict,y_test))"
      ],
      "metadata": {
        "colab": {
          "base_uri": "https://localhost:8080/"
        },
        "id": "giupTDkSsOUI",
        "outputId": "eb5dab4c-de1a-416c-9e06-a521ff6ee335"
      },
      "execution_count": null,
      "outputs": [
        {
          "output_type": "stream",
          "name": "stdout",
          "text": [
            "              precision    recall  f1-score   support\n",
            "\n",
            "          -1       0.38      0.72      0.50       333\n",
            "           1       0.92      0.72      0.81      1405\n",
            "\n",
            "    accuracy                           0.72      1738\n",
            "   macro avg       0.65      0.72      0.65      1738\n",
            "weighted avg       0.81      0.72      0.75      1738\n",
            "\n"
          ]
        }
      ]
    },
    {
      "cell_type": "code",
      "source": [
        "# print(confusion_matrix(y_predict,y_test))\n"
      ],
      "metadata": {
        "colab": {
          "base_uri": "https://localhost:8080/"
        },
        "id": "l87sqKSBrt-M",
        "outputId": "1e559281-cca4-443d-82f2-f24337b4c9fc"
      },
      "execution_count": null,
      "outputs": [
        {
          "output_type": "stream",
          "name": "stdout",
          "text": [
            "[[379 252]\n",
            " [256 851]]\n"
          ]
        }
      ]
    },
    {
      "cell_type": "code",
      "source": [
        "# print(accuracy_score(y_predict,y_test))\n"
      ],
      "metadata": {
        "colab": {
          "base_uri": "https://localhost:8080/"
        },
        "id": "Q3FnOyfIsIOL",
        "outputId": "0ad47696-c609-4048-de00-1d5f09b6a073"
      },
      "execution_count": null,
      "outputs": [
        {
          "output_type": "stream",
          "name": "stdout",
          "text": [
            "0.716915995397008\n"
          ]
        }
      ]
    }
  ]
}